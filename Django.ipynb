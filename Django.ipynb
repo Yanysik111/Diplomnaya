{
  "nbformat": 4,
  "nbformat_minor": 0,
  "metadata": {
    "colab": {
      "provenance": []
    },
    "kernelspec": {
      "name": "python3",
      "display_name": "Python 3"
    },
    "language_info": {
      "name": "python"
    }
  },
  "cells": [
    {
      "cell_type": "markdown",
      "source": [
        "Разработка простых веб-приложений на различных фреймворках — отличный способ понять особенности каждого из них. Мы рассмотрим три популярных фреймворка для создания веб-приложений на Python: Django, Flask и FastAPI. Для сравнения, разработаем одно и то же приложение на каждом из них, а затем проведем анализ их особенностей.\n",
        "\n",
        "**Задача**\n",
        "\n",
        "Разработаем простое веб-приложение, которое выполняет следующие функции:\n",
        "\n",
        "1. Отображает главную страницу с формой для ввода текста.\n",
        "2. Принимает текст от пользователя и сохраняет его в базе данных.\n",
        "3. Отображает список всех сохраненных текстов.\n",
        "\n",
        "Для начала давайте определим структуру базы данных. Она будет содержать одну таблицу с двумя полями: идентификатор записи и сам текст.\n",
        "\n",
        "***DJANGO***\n",
        "\n",
        "Django — это полнофункциональный фреймворк, ориентированный на быструю разработку сложных веб-приложений. Он предоставляет встроенную ORM, систему аутентификации, админ-панель и многое другое.\n",
        "\n",
        "Документация: https://docs.djangoproject.com/en/5.1/\n",
        "\n",
        "Установка\n",
        "\n"
      ],
      "metadata": {
        "id": "VSYvWG_zEOxD"
      }
    },
    {
      "cell_type": "code",
      "execution_count": 1,
      "metadata": {
        "colab": {
          "base_uri": "https://localhost:8080/"
        },
        "id": "SatlwFakEGq2",
        "outputId": "d96d215f-0e50-4eba-e132-7f09f64d3f22"
      },
      "outputs": [
        {
          "output_type": "stream",
          "name": "stdout",
          "text": [
            "Collecting django\n",
            "  Downloading Django-5.1.4-py3-none-any.whl.metadata (4.2 kB)\n",
            "Collecting asgiref<4,>=3.8.1 (from django)\n",
            "  Downloading asgiref-3.8.1-py3-none-any.whl.metadata (9.3 kB)\n",
            "Requirement already satisfied: sqlparse>=0.3.1 in /usr/local/lib/python3.10/dist-packages (from django) (0.5.3)\n",
            "Requirement already satisfied: typing-extensions>=4 in /usr/local/lib/python3.10/dist-packages (from asgiref<4,>=3.8.1->django) (4.12.2)\n",
            "Downloading Django-5.1.4-py3-none-any.whl (8.3 MB)\n",
            "\u001b[2K   \u001b[90m━━━━━━━━━━━━━━━━━━━━━━━━━━━━━━━━━━━━━━━━\u001b[0m \u001b[32m8.3/8.3 MB\u001b[0m \u001b[31m8.3 MB/s\u001b[0m eta \u001b[36m0:00:00\u001b[0m\n",
            "\u001b[?25hDownloading asgiref-3.8.1-py3-none-any.whl (23 kB)\n",
            "Installing collected packages: asgiref, django\n",
            "Successfully installed asgiref-3.8.1 django-5.1.4\n"
          ]
        }
      ],
      "source": [
        "pip install django"
      ]
    },
    {
      "cell_type": "markdown",
      "source": [
        "Создание проекта"
      ],
      "metadata": {
        "id": "_7KsBl67ENQg"
      }
    },
    {
      "cell_type": "code",
      "source": [
        "django-admin startproject mysite\n",
        "cd mysite"
      ],
      "metadata": {
        "colab": {
          "base_uri": "https://localhost:8080/",
          "height": 106
        },
        "id": "CUYXKl-VFTZ3",
        "outputId": "665f1306-169e-4f35-9645-058fcf318ff0"
      },
      "execution_count": 2,
      "outputs": [
        {
          "output_type": "error",
          "ename": "SyntaxError",
          "evalue": "invalid syntax (<ipython-input-2-7e3c9ebd605f>, line 1)",
          "traceback": [
            "\u001b[0;36m  File \u001b[0;32m\"<ipython-input-2-7e3c9ebd605f>\"\u001b[0;36m, line \u001b[0;32m1\u001b[0m\n\u001b[0;31m    django-admin startproject mysite\u001b[0m\n\u001b[0m                 ^\u001b[0m\n\u001b[0;31mSyntaxError\u001b[0m\u001b[0;31m:\u001b[0m invalid syntax\n"
          ]
        }
      ]
    },
    {
      "cell_type": "markdown",
      "source": [
        "Создание приложения"
      ],
      "metadata": {
        "id": "ROt_Ty7BFXx_"
      }
    },
    {
      "cell_type": "code",
      "source": [
        "python manage.py startapp main_app"
      ],
      "metadata": {
        "id": "5FKKUCZvFdB5"
      },
      "execution_count": null,
      "outputs": []
    },
    {
      "cell_type": "markdown",
      "source": [
        "Добавляем main_app в список установленных приложений в mysite/settings.py:"
      ],
      "metadata": {
        "id": "UHoeHJocFld3"
      }
    },
    {
      "cell_type": "code",
      "source": [
        "INSTALLED_APPS = [\n",
        "    # ...\n",
        "    'main_app',\n",
        "]"
      ],
      "metadata": {
        "id": "XPhbqZjaFfz3"
      },
      "execution_count": null,
      "outputs": []
    },
    {
      "cell_type": "markdown",
      "source": [
        "  **Модель**\n",
        "  \n",
        "Создадим модель для хранения текста в main_app/models.py:"
      ],
      "metadata": {
        "id": "cEw6z0NeFknB"
      }
    },
    {
      "cell_type": "code",
      "source": [
        "from django.db import models\n",
        "\n",
        "class Text(models.Model):\n",
        "    text = models.TextField()\n",
        "\n",
        "    def __str__(self):\n",
        "        return self.text[:50]"
      ],
      "metadata": {
        "collapsed": true,
        "id": "xxZSHPdtF1m5"
      },
      "execution_count": null,
      "outputs": []
    },
    {
      "cell_type": "markdown",
      "source": [
        "Выполним миграцию базы данных:"
      ],
      "metadata": {
        "id": "XFuE77EcF--e"
      }
    },
    {
      "cell_type": "code",
      "source": [
        "python manage.py makemigrations\n",
        "python manage.py migrate"
      ],
      "metadata": {
        "id": "yBYygJihF_hG"
      },
      "execution_count": null,
      "outputs": []
    },
    {
      "cell_type": "markdown",
      "source": [
        "**Представления**\n",
        "\n",
        "Определим представления в main_app/views.py:"
      ],
      "metadata": {
        "id": "nEJUvNtoGIfU"
      }
    },
    {
      "cell_type": "code",
      "source": [
        "from django.shortcuts import render, redirect\n",
        "from .models import Text\n",
        "from .forms import TextForm\n",
        "\n",
        "def index(request):\n",
        "    texts = Text.objects.all().order_by('-id')\n",
        "    form = TextForm()\n",
        "    context = {'texts': texts, 'form': form}\n",
        "    return render(request, 'main_app/index.html', context)\n",
        "\n",
        "def save_text(request):\n",
        "    if request.method == 'POST':\n",
        "        form = TextForm(request.POST)\n",
        "        if form.is_valid():\n",
        "            form.save()\n",
        "            return redirect('index')\n",
        "    return redirect('index')"
      ],
      "metadata": {
        "id": "rOviUwgrGRpW"
      },
      "execution_count": null,
      "outputs": []
    },
    {
      "cell_type": "markdown",
      "source": [
        "**Формы**\n",
        "\n",
        "Создадим форму для ввода текста в main_app/forms.py:"
      ],
      "metadata": {
        "id": "wt04UvV6GXKx"
      }
    },
    {
      "cell_type": "code",
      "source": [
        "from django import forms\n",
        "from .models import Text\n",
        "\n",
        "class TextForm(forms.ModelForm):\n",
        "    class Meta:\n",
        "        model = Text\n",
        "        fields = ['text']"
      ],
      "metadata": {
        "id": "Bc26qbHlGdUE"
      },
      "execution_count": null,
      "outputs": []
    },
    {
      "cell_type": "markdown",
      "source": [
        "**Шаблоны**\n",
        "\n",
        "Создадим шаблон главной страницы в main_app/templates/main_app/index.html:"
      ],
      "metadata": {
        "id": "rlUyBSAsGgQq"
      }
    },
    {
      "cell_type": "code",
      "source": [
        "<!DOCTYPE html>\n",
        "<html lang=\"en\">\n",
        "<head>\n",
        "    <meta charset=\"UTF-8\">\n",
        "    <title>Django App</title>\n",
        "</head>\n",
        "<body>\n",
        "    <h1>Главная страница</h1>\n",
        "    <form action=\"{% url 'save_text' %}\" method=\"post\">\n",
        "        {% csrf_token %}\n",
        "        {{ form }}\n",
        "        <button type=\"submit\">Сохранить</button>\n",
        "    </form>\n",
        "    <hr>\n",
        "    <h2>Список текстов</h2>\n",
        "    <ul>\n",
        "        {% for text in texts %}\n",
        "            <li>{{ text }}</li>\n",
        "        {% endfor %}\n",
        "    </ul>\n",
        "</body>\n",
        "</html>"
      ],
      "metadata": {
        "id": "v9l21ygSGl0C"
      },
      "execution_count": null,
      "outputs": []
    },
    {
      "cell_type": "markdown",
      "source": [
        "**URLs**\n",
        "\n",
        "Определим маршруты в mysite/urls.py:"
      ],
      "metadata": {
        "id": "bRvBKpX-G4o4"
      }
    },
    {
      "cell_type": "code",
      "source": [
        "from django.contrib import admin\n",
        "from django.urls import path, include\n",
        "\n",
        "urlpatterns = [\n",
        "    path('admin/', admin.site.urls),\n",
        "    path('', include('main_app.urls')),\n",
        "]"
      ],
      "metadata": {
        "id": "-ovrBXr1G_B1"
      },
      "execution_count": null,
      "outputs": []
    },
    {
      "cell_type": "markdown",
      "source": [
        "И создаем файл urls.py в директории main_app:"
      ],
      "metadata": {
        "id": "gNUzmK-VHBw8"
      }
    },
    {
      "cell_type": "code",
      "source": [
        "from django.urls import path\n",
        "from .views import index, save_text\n",
        "\n",
        "urlpatterns = [\n",
        "    path('', index, name='index'),\n",
        "    path('save-text/', save_text, name='save_text'),\n",
        "]"
      ],
      "metadata": {
        "id": "mHE_H-13HGOL"
      },
      "execution_count": null,
      "outputs": []
    },
    {
      "cell_type": "markdown",
      "source": [
        "Теперь запустим сервер:"
      ],
      "metadata": {
        "id": "f4YEvHQvHKgU"
      }
    },
    {
      "cell_type": "markdown",
      "source": [],
      "metadata": {
        "id": "MWidK94rHXnk"
      }
    },
    {
      "cell_type": "code",
      "source": [
        "python manage.py runserver"
      ],
      "metadata": {
        "id": "U9YDhlEUHPnr"
      },
      "execution_count": null,
      "outputs": []
    },
    {
      "cell_type": "markdown",
      "source": [
        "Откроется главная страница по адресу http://127.0.0.1:8000/, где можно вводить тексты и сохранять их."
      ],
      "metadata": {
        "id": "ocq9yx_1HQXq"
      }
    }
  ]
}