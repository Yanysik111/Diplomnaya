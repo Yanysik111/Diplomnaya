{
  "nbformat": 4,
  "nbformat_minor": 0,
  "metadata": {
    "colab": {
      "provenance": []
    },
    "kernelspec": {
      "name": "python3",
      "display_name": "Python 3"
    },
    "language_info": {
      "name": "python"
    }
  },
  "cells": [
    {
      "cell_type": "markdown",
      "source": [
        "Разработка простых веб-приложений на различных фреймворках — отличный способ понять особенности каждого из них. Мы рассмотрим три популярных фреймворка для создания веб-приложений на Python: Django, Flask и FastAPI. Для сравнения, разработаем одно и то же приложение на каждом из них, а затем проведем анализ их особенностей.\n",
        "\n",
        "**Задача**\n",
        "\n",
        "Разработаем простое веб-приложение, которое выполняет следующие функции:\n",
        "\n",
        "Отображает главную страницу с формой для ввода текста.\n",
        "Принимает текст от пользователя и сохраняет его в базе данных.\n",
        "Отображает список всех сохраненных текстов.\n",
        "Для начала давайте определим структуру базы данных. Она будет содержать одну таблицу с двумя полями: идентификатор записи и сам текст.\n",
        "\n",
        "**Приложение** **на** **FastAPI**\n",
        "\n",
        "FastAPI — это современный асинхронный фреймворк, основанный на стандартах Python типа аннотаций и Pydantic. Он обеспечивает высокую производительность и простоту разработки API.\n",
        "\n",
        "Документация:https://fastapi-tutorial.readthedocs.io/en/latest/\n",
        "\n",
        "**Установка**\n",
        "\n"
      ],
      "metadata": {
        "id": "hZukO7fnOCkP"
      }
    },
    {
      "cell_type": "code",
      "execution_count": null,
      "metadata": {
        "id": "PvcdqBV1N-ij"
      },
      "outputs": [],
      "source": [
        "pip install fastapi uvicorn sqlalchemy aioredis"
      ]
    },
    {
      "cell_type": "markdown",
      "source": [
        "**Создание** **приложения**\n",
        "\n",
        "Создадим файл main.py:"
      ],
      "metadata": {
        "id": "mVQkinS-OSTj"
      }
    },
    {
      "cell_type": "code",
      "source": [
        "from fastapi import FastAPI, Request, Form\n",
        "from fastapi.responses import HTMLResponse\n",
        "from fastapi.templating import Jinja2Templates\n",
        "from sqlalchemy import create_engine, Column, Integer, String\n",
        "from sqlalchemy.ext.declarative import declarative_base\n",
        "from sqlalchemy.orm import sessionmaker\n",
        "\n",
        "Base = declarative_base()\n",
        "\n",
        "class Text(Base):\n",
        "    __tablename__ = 'texts'\n",
        "    id = Column(Integer, primary_key=True)\n",
        "    text = Column(String)\n",
        "\n",
        "engine = create_engine('sqlite:///db.sqlite')\n",
        "SessionLocal = sessionmaker(autocommit=False, autoflush=False, bind=engine)\n",
        "Base.metadata.create_all(bind=engine)\n",
        "\n",
        "app = FastAPI()\n",
        "templates = Jinja2Templates(directory=\"templates\")\n",
        "\n",
        "@app.get(\"/\", response_class=HTMLResponse)\n",
        "async def read_root(request: Request):\n",
        "    db = SessionLocal()\n",
        "    texts = db.query(Text).order_by(Text.id.desc()).all()\n",
        "    db.close()\n",
        "    return templates.TemplateResponse(\"index.html\", {\"request\": request, \"texts\": texts})\n",
        "\n",
        "@app.post(\"/add-text/\", response_class=HTMLResponse)\n",
        "async def add_text(request: Request, text: str = Form(...)):\n",
        "    db = SessionLocal()\n",
        "    new_text = Text(text=text)\n",
        "    db.add(new_text)\n",
        "    db.commit()\n",
        "    db.close()\n",
        "    return templates.TemplateResponse(\"index.html\", {\"request\": request}, status_code=200)"
      ],
      "metadata": {
        "id": "4qHH3cFlOX86"
      },
      "execution_count": null,
      "outputs": []
    },
    {
      "cell_type": "markdown",
      "source": [
        "**Шаблон**\n",
        "\n",
        "Создадим шаблон templates/index.html:"
      ],
      "metadata": {
        "id": "Qo2AEUN0Ob-c"
      }
    },
    {
      "cell_type": "code",
      "source": [
        "<!DOCTYPE html>\n",
        "<html lang=\"en\">\n",
        "<head>\n",
        "    <meta charset=\"UTF-8\">\n",
        "    <title>FastAPI App</title>\n",
        "</head>\n",
        "<body>\n",
        "    <h1>Главная страница</h1>\n",
        "    <form action=\"/add-text/\" method=\"post\">\n",
        "        <textarea name=\"text\"></textarea><br>\n",
        "        <button type=\"submit\">Сохранить</button>\n",
        "    </form>\n",
        "    <hr>\n",
        "    <h2>Список текстов</h2>\n",
        "    <ul>\n",
        "        {% for text in texts %}\n",
        "            <li>{{ text.text }}</li>\n",
        "        {% endfor %}\n",
        "    </ul>\n",
        "</body>\n",
        "</html>"
      ],
      "metadata": {
        "id": "MhbutHf3OgXz"
      },
      "execution_count": null,
      "outputs": []
    },
    {
      "cell_type": "markdown",
      "source": [
        "Запустим сервер:"
      ],
      "metadata": {
        "id": "nF3iOYm6OkMq"
      }
    },
    {
      "cell_type": "code",
      "source": [
        "uvicorn main:app --reload"
      ],
      "metadata": {
        "id": "vNvPxedzOoyi"
      },
      "execution_count": null,
      "outputs": []
    },
    {
      "cell_type": "markdown",
      "source": [
        "Откроется главная страница по адресу http://127.0.0.1:8000/, где можно вводить тексты и сохранять их.\n",
        "\n"
      ],
      "metadata": {
        "id": "YjRjSh1_Orsi"
      }
    }
  ]
}