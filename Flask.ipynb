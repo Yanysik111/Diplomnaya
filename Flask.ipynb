{
  "nbformat": 4,
  "nbformat_minor": 0,
  "metadata": {
    "colab": {
      "provenance": []
    },
    "kernelspec": {
      "name": "python3",
      "display_name": "Python 3"
    },
    "language_info": {
      "name": "python"
    }
  },
  "cells": [
    {
      "cell_type": "markdown",
      "source": [
        "Разработка простых веб-приложений на различных фреймворках — отличный способ понять особенности каждого из них. Мы рассмотрим три популярных фреймворка для создания веб-приложений на Python: Django, Flask и FastAPI. Для сравнения, разработаем одно и то же приложение на каждом из них, а затем проведем анализ их особенностей.\n",
        "\n",
        "**Задача**\n",
        "\n",
        "Разработаем простое веб-приложение, которое выполняет следующие функции:\n",
        "\n",
        "1. Отображает главную страницу с формой для ввода текста.\n",
        "2. Принимает текст от пользователя и сохраняет его в базе данных.\n",
        "3. Отображает список всех сохраненных текстов.\n",
        "\n",
        "\n",
        "Для начала давайте определим структуру базы данных. Она будет содержать одну таблицу с двумя полями: идентификатор записи и сам текст.\n",
        "\n",
        " **Приложение на Flask**\n",
        "\n",
        "Flask — это легкий микро-фреймворк, предоставляющий минимальные возможности для быстрого старта разработки веб-приложений. Он идеально подходит для небольших проектов, где требуется высокая гибкость и контроль над каждым аспектом приложения.\n",
        "\n",
        "Документация: https://flask.palletsprojects.com/en/stable/\n",
        "\n",
        "**Установка**"
      ],
      "metadata": {
        "id": "ZdC0SUk_MdPe"
      }
    },
    {
      "cell_type": "code",
      "execution_count": null,
      "metadata": {
        "id": "0aaFOmCOMVRI"
      },
      "outputs": [],
      "source": [
        "pip install flask"
      ]
    },
    {
      "cell_type": "code",
      "source": [],
      "metadata": {
        "id": "nVVKkYsgN1zM"
      },
      "execution_count": null,
      "outputs": []
    },
    {
      "cell_type": "markdown",
      "source": [
        "**Создание** **приложение**\n",
        "\n",
        "Создадим файл app.py:"
      ],
      "metadata": {
        "id": "UKJrgrEfMbqW"
      }
    },
    {
      "cell_type": "code",
      "source": [
        "from flask import Flask, render_template, request, redirect, url_for\n",
        "from flask_sqlalchemy import SQLAlchemy\n",
        "\n",
        "app = Flask(__name__)\n",
        "app.config['SQLALCHEMY_DATABASE_URI'] = 'sqlite:///db.sqlite'\n",
        "app.config['SECRET_KEY'] = 'your_secret_key'\n",
        "db = SQLAlchemy(app)\n",
        "\n",
        "class Text(db.Model):\n",
        "    id = db.Column(db.Integer, primary_key=True)\n",
        "    text = db.Column(db.String(255))\n",
        "\n",
        "with app.app_context():\n",
        "    db.create_all()\n",
        "\n",
        "@app.route('/')\n",
        "def index():\n",
        "    texts = Text.query.order_by(Text.id.desc()).all()\n",
        "    return render_template('index.html', texts=texts)\n",
        "\n",
        "@app.route('/add-text', methods=['POST'])\n",
        "def add_text():\n",
        "    new_text = Text(text=request.form['text'])\n",
        "    db.session.add(new_text)\n",
        "    db.session.commit()\n",
        "    return redirect(url_for('index'))\n",
        "\n",
        "if __name__ == '__main__':\n",
        "    app.run(debug=True)"
      ],
      "metadata": {
        "id": "Ld1yofyJNIP7"
      },
      "execution_count": null,
      "outputs": []
    },
    {
      "cell_type": "markdown",
      "source": [
        "**Шаблон**\n",
        "\n",
        "Создадим шаблон templates/index.html:"
      ],
      "metadata": {
        "id": "bdlVK3YKNM5U"
      }
    },
    {
      "cell_type": "code",
      "source": [
        "<!DOCTYPE html>\n",
        "<html lang=\"en\">\n",
        "<head>\n",
        "    <meta charset=\"UTF-8\">\n",
        "    <title>Flask App</title>\n",
        "</head>\n",
        "<body>\n",
        "    <h1>Главная страница</h1>\n",
        "    <form action=\"{{ url_for('add_text') }}\" method=\"post\">\n",
        "        <textarea name=\"text\"></textarea><br>\n",
        "        <button type=\"submit\">Сохранить</button>\n",
        "    </form>\n",
        "    <hr>\n",
        "    <h2>Список текстов</h2>\n",
        "    <ul>\n",
        "        {% for text in texts %}\n",
        "            <li>{{ text.text }}</li>\n",
        "        {% endfor %}\n",
        "    </ul>\n",
        "</body>\n",
        "</html>"
      ],
      "metadata": {
        "id": "th4kPIrlNTCd"
      },
      "execution_count": null,
      "outputs": []
    },
    {
      "cell_type": "markdown",
      "source": [
        "Запустим сервер:"
      ],
      "metadata": {
        "id": "ORwizi4yNWKU"
      }
    },
    {
      "cell_type": "code",
      "source": [
        "python app.py"
      ],
      "metadata": {
        "id": "tjZ9qhDoNZ4E"
      },
      "execution_count": null,
      "outputs": []
    },
    {
      "cell_type": "markdown",
      "source": [
        "Откроется главная страница по адресу http://127.0.0.1:5000/, где можно вводить тексты и сохранять их.\n",
        "\n"
      ],
      "metadata": {
        "id": "zdNzwLj7Ndrc"
      }
    }
  ]
}